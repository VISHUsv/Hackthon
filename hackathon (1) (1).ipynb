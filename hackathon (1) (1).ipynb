{
 "cells": [
  {
   "cell_type": "code",
   "execution_count": 48,
   "id": "3c60df05",
   "metadata": {},
   "outputs": [],
   "source": [
    "import pandas as pd\n",
    "import tensorflow as tf\n",
    "import matplotlib.pyplot as plt\n",
    "from tensorflow import keras\n",
    "import numpy as np\n",
    "from numpy import loadtxt\n",
    "%matplotlib inline"
   ]
  },
  {
   "cell_type": "code",
   "execution_count": 182,
   "id": "6dcc3a5a",
   "metadata": {
    "scrolled": true
   },
   "outputs": [
    {
     "name": "stdout",
     "output_type": "stream",
     "text": [
      "      itching  skin_rash  nodal_skin_eruptions  continuous_sneezing  \\\n",
      "0           1          1                     1                    0   \n",
      "1           0          1                     1                    0   \n",
      "2           1          0                     1                    0   \n",
      "3           1          1                     0                    0   \n",
      "4           1          1                     1                    0   \n",
      "...       ...        ...                   ...                  ...   \n",
      "4915        0          0                     0                    0   \n",
      "4916        0          1                     0                    0   \n",
      "4917        0          0                     0                    0   \n",
      "4918        0          1                     0                    0   \n",
      "4919        0          1                     0                    0   \n",
      "\n",
      "      shivering  chills  joint_pain  stomach_pain  acidity  ulcers_on_tongue  \\\n",
      "0             0       0           0             0        0                 0   \n",
      "1             0       0           0             0        0                 0   \n",
      "2             0       0           0             0        0                 0   \n",
      "3             0       0           0             0        0                 0   \n",
      "4             0       0           0             0        0                 0   \n",
      "...         ...     ...         ...           ...      ...               ...   \n",
      "4915          0       0           0             0        0                 0   \n",
      "4916          0       0           0             0        0                 0   \n",
      "4917          0       0           0             0        0                 0   \n",
      "4918          0       0           1             0        0                 0   \n",
      "4919          0       0           0             0        0                 0   \n",
      "\n",
      "      ...  blackheads  scurring  skin_peeling  silver_like_dusting  \\\n",
      "0     ...           0         0             0                    0   \n",
      "1     ...           0         0             0                    0   \n",
      "2     ...           0         0             0                    0   \n",
      "3     ...           0         0             0                    0   \n",
      "4     ...           0         0             0                    0   \n",
      "...   ...         ...       ...           ...                  ...   \n",
      "4915  ...           0         0             0                    0   \n",
      "4916  ...           1         1             0                    0   \n",
      "4917  ...           0         0             0                    0   \n",
      "4918  ...           0         0             1                    1   \n",
      "4919  ...           0         0             0                    0   \n",
      "\n",
      "      small_dents_in_nails  inflammatory_nails  blister  red_sore_around_nose  \\\n",
      "0                        0                   0        0                     0   \n",
      "1                        0                   0        0                     0   \n",
      "2                        0                   0        0                     0   \n",
      "3                        0                   0        0                     0   \n",
      "4                        0                   0        0                     0   \n",
      "...                    ...                 ...      ...                   ...   \n",
      "4915                     0                   0        0                     0   \n",
      "4916                     0                   0        0                     0   \n",
      "4917                     0                   0        0                     0   \n",
      "4918                     1                   1        0                     0   \n",
      "4919                     0                   0        1                     1   \n",
      "\n",
      "      yellow_crust_ooze                                prognosis  \n",
      "0                     0                         Fungal infection  \n",
      "1                     0                         Fungal infection  \n",
      "2                     0                         Fungal infection  \n",
      "3                     0                         Fungal infection  \n",
      "4                     0                         Fungal infection  \n",
      "...                 ...                                      ...  \n",
      "4915                  0  (vertigo) Paroymsal  Positional Vertigo  \n",
      "4916                  0                                     Acne  \n",
      "4917                  0                  Urinary tract infection  \n",
      "4918                  0                                Psoriasis  \n",
      "4919                  1                                 Impetigo  \n",
      "\n",
      "[4920 rows x 133 columns]\n"
     ]
    }
   ],
   "source": [
    "training_data = pd.read_csv(r'C:\\Users\\bella\\OneDrive\\Documents\\training_data.csv')\n",
    "training_data = training_data.dropna(axis=1)\n",
    "training_data = training_data.reset_index(drop=True)\n",
    "print(training_data)"
   ]
  },
  {
   "cell_type": "code",
   "execution_count": 184,
   "id": "fe85a637",
   "metadata": {},
   "outputs": [],
   "source": [
    "dataset=training_data.values\n",
    "x = dataset[:,0:131].astype(float)\n",
    "y = dataset[:,132]\n"
   ]
  },
  {
   "cell_type": "code",
   "execution_count": 185,
   "id": "1b3deb86",
   "metadata": {},
   "outputs": [],
   "source": [
    "from sklearn.model_selection import train_test_split\n",
    "\n",
    "x_train, x_test, y_train, y_test = train_test_split(x,y,test_size = 0.2, random_state = 0)\n",
    "\n",
    "x_train=np.asarray(x_train).astype(np.float)\n",
    "\n",
    "y_train=np.asarray(y_train).astype(np.str)\n",
    "\n",
    "x_test=np.asarray(x_test).astype(np.float)\n",
    "\n",
    "y_test=np.asarray(y_test).astype(np.str)"
   ]
  },
  {
   "cell_type": "code",
   "execution_count": 186,
   "id": "6bc6ec1a",
   "metadata": {},
   "outputs": [],
   "source": [
    "from sklearn.preprocessing import LabelEncoder\n",
    "from keras.utils import np_utils\n",
    "\n",
    "encoder = LabelEncoder()\n",
    "encoder.fit(y_train)\n",
    "encoded_y = encoder.transform(y_train)\n",
    "# convert integers to dummy variables (i.e. one hot encoded)\n",
    "dummy_y = np_utils.to_categorical(encoded_y)\n",
    "\n",
    "encoder = LabelEncoder()\n",
    "encoder.fit(y_test)\n",
    "encoded_y1 = encoder.transform(y_test)\n",
    "# convert integers to dummy variables (i.e. one hot encoded)\n",
    "dummy_y1 = np_utils.to_categorical(encoded_y1)\n"
   ]
  },
  {
   "cell_type": "code",
   "execution_count": 187,
   "id": "5b6a3738",
   "metadata": {},
   "outputs": [],
   "source": [
    "from sklearn.preprocessing import StandardScaler\n",
    "sc = StandardScaler()\n",
    "x_train = sc.fit_transform(x_train)\n",
    "x_test = sc.transform(x_test)\n"
   ]
  },
  {
   "cell_type": "code",
   "execution_count": 193,
   "id": "623cd451",
   "metadata": {},
   "outputs": [],
   "source": [
    "from keras.models import Sequential\n",
    "from keras.layers import Dense\n"
   ]
  },
  {
   "cell_type": "code",
   "execution_count": 203,
   "id": "a54ef0bf",
   "metadata": {},
   "outputs": [
    {
     "name": "stdout",
     "output_type": "stream",
     "text": [
      "Epoch 1/10\n",
      "123/123 [==============================] - 1s 1ms/step - loss: 0.9478 - accuracy: 0.8590\n",
      "Epoch 2/10\n",
      "123/123 [==============================] - 0s 2ms/step - loss: 0.0381 - accuracy: 1.0000\n",
      "Epoch 3/10\n",
      "123/123 [==============================] - 0s 2ms/step - loss: 0.0143 - accuracy: 1.0000\n",
      "Epoch 4/10\n",
      "123/123 [==============================] - 0s 1ms/step - loss: 0.0079 - accuracy: 1.0000\n",
      "Epoch 5/10\n",
      "123/123 [==============================] - 0s 1ms/step - loss: 0.0050 - accuracy: 1.0000\n",
      "Epoch 6/10\n",
      "123/123 [==============================] - 0s 2ms/step - loss: 0.0035 - accuracy: 1.0000\n",
      "Epoch 7/10\n",
      "123/123 [==============================] - 0s 3ms/step - loss: 0.0026 - accuracy: 1.0000\n",
      "Epoch 8/10\n",
      "123/123 [==============================] - 0s 3ms/step - loss: 0.0020 - accuracy: 1.0000\n",
      "Epoch 9/10\n",
      "123/123 [==============================] - 0s 3ms/step - loss: 0.0016 - accuracy: 1.0000\n",
      "Epoch 10/10\n",
      "123/123 [==============================] - 0s 2ms/step - loss: 0.0013 - accuracy: 1.0000\n"
     ]
    },
    {
     "data": {
      "text/plain": [
       "<keras.callbacks.History at 0x24a16a4ac50>"
      ]
     },
     "execution_count": 203,
     "metadata": {},
     "output_type": "execute_result"
    }
   ],
   "source": [
    "classifier = Sequential()\n",
    "\n",
    "classifier.add(Dense(100,input_dim=131, activation = 'relu'))\n",
    "classifier.add(Dense(41, activation = 'softmax'))\n",
    "classifier.compile(optimizer = 'adam',\n",
    "                  loss = 'categorical_crossentropy',\n",
    "                  metrics=['accuracy'])\n",
    "classifier.fit(x_train, dummy_y, epochs = 10)"
   ]
  },
  {
   "cell_type": "code",
   "execution_count": 204,
   "id": "4709c258",
   "metadata": {},
   "outputs": [
    {
     "name": "stdout",
     "output_type": "stream",
     "text": [
      "31/31 [==============================] - 0s 801us/step - loss: 0.0011 - accuracy: 1.0000\n"
     ]
    },
    {
     "data": {
      "text/plain": [
       "[0.0011323648504912853, 1.0]"
      ]
     },
     "execution_count": 204,
     "metadata": {},
     "output_type": "execute_result"
    }
   ],
   "source": [
    "classifier.evaluate(x_test,dummy_y1)"
   ]
  },
  {
   "cell_type": "code",
   "execution_count": 205,
   "id": "1aa9de4e",
   "metadata": {},
   "outputs": [
    {
     "name": "stdout",
     "output_type": "stream",
     "text": [
      "['Hepatitis B' 'Jaundice' 'Hypothyroidism' ... 'Allergy'\n",
      " 'Alcoholic hepatitis' 'Common Cold']\n"
     ]
    }
   ],
   "source": [
    "print(y_train)"
   ]
  },
  {
   "cell_type": "code",
   "execution_count": 1,
   "id": "1e9f866d",
   "metadata": {},
   "outputs": [
    {
     "ename": "NameError",
     "evalue": "name 'accuracy' is not defined",
     "output_type": "error",
     "traceback": [
      "\u001b[1;31m---------------------------------------------------------------------------\u001b[0m",
      "\u001b[1;31mNameError\u001b[0m                                 Traceback (most recent call last)",
      "\u001b[1;32m<ipython-input-1-0d460b0c6745>\u001b[0m in \u001b[0;36m<module>\u001b[1;34m\u001b[0m\n\u001b[1;32m----> 1\u001b[1;33m \u001b[0mprint\u001b[0m\u001b[1;33m(\u001b[0m\u001b[0maccuracy\u001b[0m\u001b[1;33m)\u001b[0m\u001b[1;33m\u001b[0m\u001b[1;33m\u001b[0m\u001b[0m\n\u001b[0m",
      "\u001b[1;31mNameError\u001b[0m: name 'accuracy' is not defined"
     ]
    }
   ],
   "source": [
    "print(accuracy)"
   ]
  },
  {
   "cell_type": "code",
   "execution_count": 207,
   "id": "e7d091bc",
   "metadata": {},
   "outputs": [
    {
     "data": {
      "text/plain": [
       "(3936,)"
      ]
     },
     "execution_count": 207,
     "metadata": {},
     "output_type": "execute_result"
    }
   ],
   "source": [
    "y_train.shape"
   ]
  },
  {
   "cell_type": "code",
   "execution_count": null,
   "id": "b37942cc",
   "metadata": {},
   "outputs": [],
   "source": []
  },
  {
   "cell_type": "code",
   "execution_count": null,
   "id": "aa859162",
   "metadata": {},
   "outputs": [],
   "source": []
  }
 ],
 "metadata": {
  "kernelspec": {
   "display_name": "Python 3",
   "language": "python",
   "name": "python3"
  },
  "language_info": {
   "codemirror_mode": {
    "name": "ipython",
    "version": 3
   },
   "file_extension": ".py",
   "mimetype": "text/x-python",
   "name": "python",
   "nbconvert_exporter": "python",
   "pygments_lexer": "ipython3",
   "version": "3.6.13"
  }
 },
 "nbformat": 4,
 "nbformat_minor": 5
}
